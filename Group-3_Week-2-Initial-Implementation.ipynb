{
 "cells": [
  {
   "cell_type": "markdown",
   "id": "73578d94",
   "metadata": {},
   "source": [
    "### Group 3 - Task Manager with Priority Queue\n",
    "---\n",
    "**Task Description:** <br>\n",
    "> The Task Manager with Priority Queue is a tool designed to help people stay organized and\n",
    "productive by managing their tasks efficiently. It allows users to add tasks, set their priority levels\n",
    "(High, Medium, or Low), and keep track of what needs to be done. Tasks are automatically sorted\n",
    "by priority, so the most important ones are always at the top."
   ]
  },
  {
   "cell_type": "markdown",
   "id": "809f7dcc",
   "metadata": {},
   "source": [
    "#### 1. Install and import necessary libraries"
   ]
  },
  {
   "cell_type": "code",
   "execution_count": 1,
   "id": "067e2083",
   "metadata": {
    "scrolled": true
   },
   "outputs": [
    {
     "name": "stdout",
     "output_type": "stream",
     "text": [
      "Requirement already satisfied: tkcalendar in c:\\users\\kmart\\anaconda3\\lib\\site-packages (1.6.1)\n",
      "Requirement already satisfied: babel in c:\\users\\kmart\\anaconda3\\lib\\site-packages (from tkcalendar) (2.11.0)\n",
      "Requirement already satisfied: pytz>=2015.7 in c:\\users\\kmart\\anaconda3\\lib\\site-packages (from babel->tkcalendar) (2022.7)\n"
     ]
    }
   ],
   "source": [
    "!pip install tkcalendar"
   ]
  },
  {
   "cell_type": "code",
   "execution_count": 2,
   "id": "b3fea14a",
   "metadata": {},
   "outputs": [],
   "source": [
    "import tkinter as tk\n",
    "from tkinter import *\n",
    "from tkinter import ttk, messagebox\n",
    "from tkcalendar import *"
   ]
  },
  {
   "cell_type": "code",
   "execution_count": 3,
   "id": "3dad78d8",
   "metadata": {},
   "outputs": [],
   "source": [
    "import json\n",
    "import os\n",
    "from datetime import datetime"
   ]
  },
  {
   "cell_type": "markdown",
   "id": "c0d43009",
   "metadata": {},
   "source": [
    "### Back-end"
   ]
  },
  {
   "cell_type": "markdown",
   "id": "bad1bcd8",
   "metadata": {},
   "source": [
    "**Task Class - Encapsulation of Task details**"
   ]
  },
  {
   "cell_type": "code",
   "execution_count": 4,
   "id": "86e9da8f",
   "metadata": {},
   "outputs": [],
   "source": [
    "class Task:\n",
    "    def __init__(self, task_name, priority, due_date):\n",
    "        self.id = None\n",
    "        self.name = task_name\n",
    "        self.priority = priority\n",
    "        self.due_date = due_date\n",
    "        self.status = 'TO DO'\n",
    "    \n",
    "    def mark_completed(self):\n",
    "        self.status = 'COMPLETED'"
   ]
  },
  {
   "cell_type": "markdown",
   "id": "80ad08dd",
   "metadata": {},
   "source": [
    "**TaskManager Class - Manages the collection of tasks (Encapsulation & Abstraction)**"
   ]
  },
  {
   "cell_type": "code",
   "execution_count": 5,
   "id": "94879f03",
   "metadata": {},
   "outputs": [],
   "source": [
    "class TaskManager:\n",
    "    def __init__(self, filename='tasks.json'):\n",
    "        self.filename = filename\n",
    "        self.tasks = self.load_tasks()\n",
    "\n",
    "    def load_tasks(self):\n",
    "        if not os.path.exists(self.filename):\n",
    "            return []\n",
    "        try:\n",
    "            with open(self.filename, 'r') as f:\n",
    "                return json.load(f)\n",
    "        except (json.JSONDecodeError, IOError):\n",
    "            return []\n",
    "\n",
    "    def save_tasks(self):\n",
    "        with open(self.filename, 'w') as f:\n",
    "            json.dump(self.tasks, f, indent=4)\n",
    "\n",
    "    def generate_unique_id(self):\n",
    "        return len(self.tasks) + 1\n",
    "\n",
    "    def add_task(self, name, priority, due_date):\n",
    "        if not name or not priority or not due_date:\n",
    "            return False\n",
    "        \n",
    "        task = {\n",
    "            'id': self.generate_unique_id(),\n",
    "            'name': name,\n",
    "            'priority': priority,\n",
    "            'due_date': due_date,\n",
    "            'status': 'TO DO'\n",
    "        }\n",
    "        self.tasks.append(task)\n",
    "        self.save_tasks()\n",
    "        return True\n",
    "\n",
    "    def get_tasks(self, status=None):\n",
    "        if status is None:\n",
    "            return self.tasks\n",
    "        return [task for task in self.tasks if task['status'] == status]\n",
    "\n",
    "    def update_task_status(self, task_id, new_status):\n",
    "        for task in self.tasks:\n",
    "            if task['id'] == task_id:\n",
    "                task['status'] = new_status\n",
    "                self.save_tasks()\n",
    "                return True\n",
    "        return False\n",
    "\n",
    "    def remove_task(self, task_id):\n",
    "        self.tasks = [task for task in self.tasks if task['id'] != task_id]\n",
    "        self.save_tasks()\n",
    "\n",
    "    def search_tasks(self, query):\n",
    "        return [task for task in self.tasks if query.lower() in task['name'].lower()]\n",
    "\n",
    "    def export_tasks(self):\n",
    "        export_filename = 'tasks_export.csv'\n",
    "\n",
    "        with open(export_filename, 'w') as f:\n",
    "            f.write(\"ID,Name,Priority,Due Date,Status\\n\")\n",
    "\n",
    "            for task in self.tasks:\n",
    "                safe_name = task['name'].replace(',', ';')\n",
    "\n",
    "                line = f\"{task['id']},{safe_name},{task['priority']},{task['due_date']},{task['status']}\\n\"\n",
    "                f.write(line)\n",
    "\n",
    "        full_path = os.path.abspath(export_filename)\n",
    "        messagebox.showinfo(\"Export Successful\", f\"Tasks exported to:\\n{full_path}\")\n",
    "\n",
    "        return full_path"
   ]
  },
  {
   "cell_type": "markdown",
   "id": "9f9f4e0b",
   "metadata": {},
   "source": [
    "### Graphical User Interface"
   ]
  },
  {
   "cell_type": "markdown",
   "id": "8bd8d4d6",
   "metadata": {},
   "source": [
    "**App Class - Main Class that runs the app**"
   ]
  },
  {
   "cell_type": "code",
   "execution_count": 6,
   "id": "307a2a74",
   "metadata": {},
   "outputs": [],
   "source": [
    "class App(tk.Tk):\n",
    "    def __init__(self, title, size):\n",
    "        super().__init__()\n",
    "        self.title(title)\n",
    "        self.geometry(f\"{size[0]}x{size[1]}\")\n",
    "        self.minsize(size[0], size[1])\n",
    "\n",
    "        self.task_manager = TaskManager()\n",
    "\n",
    "        self.sidebar = Sidebar(self, self.task_manager)\n",
    "        self.main = Main(self, self.task_manager)\n",
    "\n",
    "        self.update_task_views()\n",
    "\n",
    "        self.mainloop()\n",
    "\n",
    "    def update_task_views(self):\n",
    "        status_map = {\n",
    "            'ALL': None,\n",
    "            'TO DO': 'TO DO',\n",
    "            'IN PROGRESS': 'IN PROGRESS',\n",
    "            'COMPLETED': 'COMPLETED'\n",
    "        }\n",
    "        \n",
    "        for tab_name, status in status_map.items():\n",
    "            treeview = getattr(self.main, f'task{list(status_map.keys()).index(tab_name) + 1}')\n",
    "            \n",
    "            for item in treeview.get_children():\n",
    "                treeview.delete(item)\n",
    "            \n",
    "            tasks = self.task_manager.get_tasks(status)\n",
    "            for task in tasks:\n",
    "                treeview.insert('', 'end', text=task['id'], \n",
    "                                values=(task['name'], task['priority'], task['due_date']))"
   ]
  },
  {
   "cell_type": "markdown",
   "id": "16f86f81",
   "metadata": {},
   "source": [
    "**Sidebar Class - Handles task input and exporting**"
   ]
  },
  {
   "cell_type": "code",
   "execution_count": 7,
   "id": "f3a7271b",
   "metadata": {},
   "outputs": [],
   "source": [
    "class Sidebar(tk.Frame):\n",
    "    def __init__(self, parent, task_manager):\n",
    "        super().__init__(parent)\n",
    "        self.task_manager = task_manager\n",
    "        self.configure(bg=\"gray63\")\n",
    "        self.place(x=0, y=0, relwidth=0.28, relheight=1)\n",
    "\n",
    "        self.create_widgets()\n",
    "        self.layout_widgets()\n",
    "\n",
    "    def create_widgets(self):\n",
    "        # Create the widgets\n",
    "        self.title = tk.Label(self, text=\"TASK MANAGER\", background=\"gray63\", font=(\"Helvetica\", 12, \"bold\"))\n",
    "        self.task_name = tk.Label(self, text=\"Task name:\", background=\"gray63\", font=(\"Helvetica\", 10, \"bold\"))\n",
    "        self.name_entry = tk.Entry(self)\n",
    "        self.priority = tk.Label(self, text=\"Priority:\", background=\"gray63\", font=(\"Helvetica\", 10, \"bold\"))\n",
    "        self.priority_combo = ttk.Combobox(self, values=[\"Low\", \"Medium\", \"High\"])\n",
    "        self.due_date = tk.Label(self, text=\"Due date:\", background=\"gray63\", font=(\"Helvetica\", 10, \"bold\"))\n",
    "        self.date_entry = DateEntry(self, selectmode=\"day\", date_pattern=\"mm-dd-yyyy\")\n",
    "        self.add_task = tk.Button(self, text=\"Add task\", background=\"dodgerblue2\", command=self.on_add_task)\n",
    "        self.export = tk.Button(self, text=\"Export\", background=\"gray70\", command=self.on_export)\n",
    "\n",
    "        # Create the grid\n",
    "        self.columnconfigure((0,1), weight=1)\n",
    "        self.rowconfigure((0,10), weight=1)\n",
    "        self.rowconfigure(8, weight=25)\n",
    "\n",
    "    def layout_widgets(self):\n",
    "        self.title.grid(row=0, column=0, padx=20, pady=12, sticky=\"w\")\n",
    "        self.task_name.grid(row=1, column=0, padx=20, sticky=\"w\")\n",
    "        self.name_entry.grid(row=2, column=0, columnspan=2, padx=20, pady=8, sticky=\"nsew\")\n",
    "        self.priority.grid(row=3, column=0, padx=20, sticky=\"w\")\n",
    "        self.priority_combo.grid(row=4, column=0, columnspan=2, padx=20, pady=8, sticky=\"nsew\")\n",
    "        self.due_date.grid(row=5, column=0, padx=20, sticky=\"w\")\n",
    "        self.date_entry.grid(row=6, column=0, columnspan=2, padx=20, pady=8, sticky=\"nsew\")\n",
    "        self.add_task.grid(row=7, column=0, columnspan=2, padx=20, pady=8, sticky=\"ew\")\n",
    "        self.export.grid(row=9, column=0, columnspan=1, padx=20, pady=0, sticky=\"ew\")\n",
    "\n",
    "    def on_add_task(self):\n",
    "        name = self.name_entry.get()\n",
    "        priority = self.priority_combo.get()\n",
    "        due_date = self.date_entry.get()\n",
    "\n",
    "        if self.task_manager.add_task(name, priority, due_date):\n",
    "            self.name_entry.delete(0, tk.END)\n",
    "            self.priority_combo.set('')\n",
    "            self.date_entry.set_date(datetime.now())\n",
    "\n",
    "            self.master.update_task_views()\n",
    "        else:\n",
    "            messagebox.showerror(\"Error\", \"Please fill in all task details\")\n",
    "\n",
    "    def on_export(self):\n",
    "        exported_file = self.task_manager.export_tasks()\n",
    "        messagebox.showinfo(\"Export Successful\", f\"Tasks exported to {exported_file}\")"
   ]
  },
  {
   "cell_type": "markdown",
   "id": "b0078e66",
   "metadata": {},
   "source": [
    "**Main Class - Displays tasks in tabs (TO DO, IN PROGRESS, COMPLETED, ALL)**"
   ]
  },
  {
   "cell_type": "code",
   "execution_count": 8,
   "id": "71bca01a",
   "metadata": {},
   "outputs": [],
   "source": [
    "class Main(ttk.Frame):\n",
    "    def __init__(self, parent, task_manager):\n",
    "        super().__init__(parent)\n",
    "        self.task_manager = task_manager\n",
    "        self.place(relx=0.28, y=0, relwidth=0.72, relheight=1)\n",
    "\n",
    "        self.create_widgets()\n",
    "        self.layout_widgets()\n",
    "\n",
    "    def create_widgets(self):\n",
    "        self.search_entry = ttk.Entry(self)\n",
    "        self.search_button = tk.Button(self, text=\"Search tasks\", background=\"dodgerblue2\", command=self.on_search)\n",
    "\n",
    "        self.manager = ttk.Notebook(self)\n",
    "        self.tab1 = tk.Frame(self.manager)\n",
    "        self.tab2 = tk.Frame(self.manager)\n",
    "        self.tab3 = tk.Frame(self.manager)\n",
    "        self.tab4 = tk.Frame(self.manager)\n",
    "\n",
    "        self.manager.add(self.tab1, text=\"ALL\")\n",
    "        self.manager.add(self.tab2, text=\"TO DO\")\n",
    "        self.manager.add(self.tab3, text=\"IN PROGRESS\")\n",
    "        self.manager.add(self.tab4, text=\"COMPLETED\")\n",
    "\n",
    "        self.task1 = self.create_treeview(self.tab1)\n",
    "        self.task2 = self.create_treeview(self.tab2)\n",
    "        self.task3 = self.create_treeview(self.tab3)\n",
    "        self.task4 = self.create_treeview(self.tab4)\n",
    "\n",
    "        self.remove_button = tk.Button(self, text=\"Remove task\", background=\"gray70\", command=self.on_remove_task)\n",
    "        self.update_button = tk.Button(self, text=\"Update task\", background=\"dodgerblue2\", command=self.on_update_task)\n",
    "\n",
    "    def create_treeview(self, parent):\n",
    "        treeview = ttk.Treeview(parent, columns=(\"Column 1\", \"Column 2\", \"Column 3\"))\n",
    "        treeview.heading(\"#0\", text=\"ID\", anchor=tk.W)\n",
    "        treeview.heading(\"Column 1\", text=\"Task name\", anchor=tk.W)\n",
    "        treeview.heading(\"Column 2\", text=\"Priority\", anchor=tk.W)\n",
    "        treeview.heading(\"Column 3\", text=\"Due date\", anchor=tk.W)\n",
    "        treeview.pack(side=\"left\", fill=\"both\", expand=True)\n",
    "        return treeview\n",
    "\n",
    "    def layout_widgets(self):\n",
    "        self.columnconfigure((0, 1, 2, 3), weight=1)\n",
    "        self.rowconfigure(0, weight=1)\n",
    "        self.rowconfigure(1, weight=22)\n",
    "        self.rowconfigure(2, weight=1)\n",
    "\n",
    "        self.search_entry.grid(row=0, column=0, columnspan=3, padx=12, pady=12, sticky=\"ew\")\n",
    "        self.search_button.grid(row=0, column=3, padx=12, pady=12, sticky=\"ew\")\n",
    "\n",
    "        self.manager.grid(row=1, column=0, columnspan=4, padx=12, sticky=\"nsew\")\n",
    "\n",
    "        self.remove_button.grid(row=2, column=0, padx=12, pady=12, sticky=\"ew\")\n",
    "        self.update_button.grid(row=2, column=3, padx=12, pady=12, sticky=\"ew\")\n",
    "\n",
    "    def on_search(self):\n",
    "        query = self.search_entry.get()\n",
    "        results = self.task_manager.search_tasks(query)\n",
    "\n",
    "        for treeview in [self.task1, self.task2, self.task3, self.task4]:\n",
    "            for item in treeview.get_children():\n",
    "                treeview.delete(item)\n",
    "\n",
    "        for task in results:\n",
    "            self.task1.insert('', 'end', text=task[0], \n",
    "                               values=(task[1], task[2], task[3]))\n",
    "\n",
    "    def on_remove_task(self):\n",
    "        current_tab_index = self.manager.index(self.manager.select())\n",
    "        treeviews = [self.task1, self.task2, self.task3, self.task4]\n",
    "        current_treeview = treeviews[current_tab_index]\n",
    "\n",
    "        selected_item = current_treeview.selection()\n",
    "        if not selected_item:\n",
    "            messagebox.showerror(\"Error\", \"Please select a task to remove\")\n",
    "            return\n",
    "\n",
    "        task_id = current_treeview.item(selected_item[0])['text']\n",
    "        \n",
    "        self.task_manager.remove_task(task_id)\n",
    "        \n",
    "        self.master.update_task_views()\n",
    "\n",
    "    def on_update_task(self):\n",
    "        current_tab_index = self.manager.index(self.manager.select())\n",
    "        treeviews = [self.task1, self.task2, self.task3, self.task4]\n",
    "        current_treeview = treeviews[current_tab_index]\n",
    "\n",
    "        selected_item = current_treeview.selection()\n",
    "        if not selected_item:\n",
    "            messagebox.showerror(\"Error\", \"Please select a task to update\")\n",
    "            return\n",
    "\n",
    "        task_id = current_treeview.item(selected_item[0])['text']\n",
    "        \n",
    "        status_cycle = ['TO DO', 'IN PROGRESS', 'COMPLETED']\n",
    "        current_status = ['ALL', 'TO DO', 'IN PROGRESS', 'COMPLETED'][current_tab_index]\n",
    "        \n",
    "        if current_status == 'ALL':\n",
    "            messagebox.showerror(\"Error\", \"Please select a specific status tab to update\")\n",
    "            return\n",
    "        \n",
    "        current_status_index = status_cycle.index(current_status)\n",
    "        next_status = status_cycle[(current_status_index + 1) % len(status_cycle)]\n",
    "        \n",
    "        self.task_manager.update_task_status(task_id, next_status)\n",
    "        \n",
    "        self.master.update_task_views()"
   ]
  },
  {
   "cell_type": "code",
   "execution_count": 10,
   "id": "fd7f4be1",
   "metadata": {},
   "outputs": [
    {
     "data": {
      "text/plain": [
       "<__main__.App object .>"
      ]
     },
     "execution_count": 10,
     "metadata": {},
     "output_type": "execute_result"
    }
   ],
   "source": [
    "App(\"Task Manager App\", (1136, 644))"
   ]
  }
 ],
 "metadata": {
  "kernelspec": {
   "display_name": "Python 3 (ipykernel)",
   "language": "python",
   "name": "python3"
  },
  "language_info": {
   "codemirror_mode": {
    "name": "ipython",
    "version": 3
   },
   "file_extension": ".py",
   "mimetype": "text/x-python",
   "name": "python",
   "nbconvert_exporter": "python",
   "pygments_lexer": "ipython3",
   "version": "3.11.4"
  }
 },
 "nbformat": 4,
 "nbformat_minor": 5
}
