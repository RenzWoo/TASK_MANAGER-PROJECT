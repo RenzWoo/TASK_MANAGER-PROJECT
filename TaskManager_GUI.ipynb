{
 "cells": [
  {
   "cell_type": "code",
   "execution_count": 1,
   "id": "067e2083",
   "metadata": {},
   "outputs": [
    {
     "name": "stdout",
     "output_type": "stream",
     "text": [
      "Requirement already satisfied: tkcalendar in c:\\users\\kmart\\anaconda3\\lib\\site-packages (1.6.1)\n",
      "Requirement already satisfied: babel in c:\\users\\kmart\\anaconda3\\lib\\site-packages (from tkcalendar) (2.11.0)\n",
      "Requirement already satisfied: pytz>=2015.7 in c:\\users\\kmart\\anaconda3\\lib\\site-packages (from babel->tkcalendar) (2022.7)\n"
     ]
    }
   ],
   "source": [
    "!pip install tkcalendar"
   ]
  },
  {
   "cell_type": "code",
   "execution_count": 2,
   "id": "b3fea14a",
   "metadata": {},
   "outputs": [],
   "source": [
    "import tkinter as tk\n",
    "from tkinter import *\n",
    "from tkinter import ttk\n",
    "from tkcalendar import *"
   ]
  },
  {
   "cell_type": "code",
   "execution_count": 3,
   "id": "78b87c7b",
   "metadata": {},
   "outputs": [],
   "source": [
    "class App(tk.Tk):\n",
    "    def __init__(self, title, size):\n",
    "\n",
    "        #main setup\n",
    "        super().__init__()\n",
    "        self.title(title)\n",
    "        self.geometry(f\"{size[0]}x{size[1]}\")\n",
    "        self.minsize(size[0], size[1])\n",
    "\n",
    "        #widgets\n",
    "        self.sidebar = Sidebar(self)\n",
    "        self.main = Main(self)\n",
    "\n",
    "        #run\n",
    "        self.mainloop()\n",
    "\n",
    "class Sidebar(tk.Frame):\n",
    "    def __init__(self, parent):\n",
    "        super().__init__(parent)\n",
    "        self.configure(bg=\"gray63\")\n",
    "        self.place(x=0, y=0, relwidth=0.28, relheight=1)\n",
    "\n",
    "        self.create_widgets()\n",
    "        self.layout_widgets()\n",
    "\n",
    "    def create_widgets(self):\n",
    "        #create the widgets\n",
    "        self.title = tk.Label(self, text=\"TASK MANAGER\", background=\"gray63\", font=(\"Helvetica\", 12, \"bold\"))\n",
    "        self.task_name = tk.Label(self, text=\"Task name:\", background=\"gray63\", font=(\"Helvetica\", 10, \"bold\"))\n",
    "        self.name_entry = tk.Entry(self)\n",
    "        self.priority = tk.Label(self, text=\"Priority:\", background=\"gray63\", font=(\"Helvetica\", 10, \"bold\"))\n",
    "        self.priority_combo = ttk.Combobox(self, values=[\"Low\", \"Medium\", \"High\"])\n",
    "        self.due_date = tk.Label(self, text=\"Due date:\", background=\"gray63\", font=(\"Helvetica\", 10, \"bold\"))\n",
    "        self.date_entry = DateEntry(self, selectmode=\"day\", date_pattern=\"mm-dd-yyyy\")\n",
    "        self.add_task = tk.Button(self, text=\"Add task\", background=\"dodgerblue2\")\n",
    "        self.export = tk.Button(self, text=\"Export\", background=\"gray70\")\n",
    "\n",
    "        #create the grid\n",
    "        self.columnconfigure((0,1), weight=1)\n",
    "        self.rowconfigure((0,10), weight=1)\n",
    "        self.rowconfigure(8, weight=25)\n",
    "\n",
    "    def layout_widgets(self):\n",
    "        self.title.grid(row=0, column=0, padx=20, pady=12, sticky=\"w\")\n",
    "        self.task_name.grid(row=1, column=0, padx=20, sticky=\"w\")\n",
    "        self.name_entry.grid(row=2, column=0, columnspan=2, padx=20, pady=8, sticky=\"nsew\")\n",
    "        self.priority.grid(row=3, column=0, padx=20, sticky=\"w\")\n",
    "        self.priority_combo.grid(row=4, column=0, columnspan=2, padx=20, pady=8, sticky=\"nsew\")\n",
    "        self.due_date.grid(row=5, column=0, padx=20, sticky=\"w\")\n",
    "        self.date_entry.grid(row=6, column=0, columnspan=2, padx=20, pady=8, sticky=\"nsew\")\n",
    "        self.add_task.grid(row=7, column=0, columnspan=2, padx=20, pady=8, sticky=\"ew\")\n",
    "        self.export.grid(row=9, column=0, columnspan=1, padx=20, pady=0, sticky=\"ew\")\n",
    "\n",
    "class Main(ttk.Frame):\n",
    "    def __init__(self, parent):\n",
    "        super().__init__(parent)\n",
    "        self.place(relx= 0.28, y=0, relwidth=0.72, relheight=1)\n",
    "\n",
    "        self.create_widgets()\n",
    "        self.layout_widgets()\n",
    "\n",
    "    def create_widgets(self):\n",
    "        self.search_entry = ttk.Entry(self)\n",
    "        self.search_button = tk.Button(self, text=\"Search tasks\", background=\"dodgerblue2\")\n",
    "\n",
    "        self.manager = ttk.Notebook(self)\n",
    "        self.tab1 = tk.Frame(self.manager)\n",
    "        self.tab2 = tk.Frame(self.manager)\n",
    "        self.tab3 = tk.Frame(self.manager)\n",
    "        self.tab4 = tk.Frame(self.manager)\n",
    "\n",
    "        self.manager.add(self.tab1, text=\"ALL\")\n",
    "        self.manager.add(self.tab2, text=\"TO DO\")\n",
    "        self.manager.add(self.tab3, text=\"IN PROGRESS\")\n",
    "        self.manager.add(self.tab4, text=\"COMPLETED\")\n",
    "\n",
    "        self.task1 = ttk.Treeview(self.tab1, columns=(\"Column 1\", \"Column 2\", \"Column 3\"))\n",
    "        self.task1.heading(\"#0\", text=\"ID\", anchor=tk.W)\n",
    "        self.task1.heading(\"Column 1\", text=\"Task name\", anchor=tk.W)\n",
    "        self.task1.heading(\"Column 2\", text=\"Priority\", anchor=tk.W)\n",
    "        self.task1.heading(\"Column 3\", text=\"Due date\", anchor=tk.W)\n",
    "\n",
    "        self.task2 = ttk.Treeview(self.tab2, columns=(\"Column 1\", \"Column 2\", \"Column 3\"))\n",
    "        self.task2.heading(\"#0\", text=\"ID\", anchor=tk.W)\n",
    "        self.task2.heading(\"Column 1\", text=\"Task name\", anchor=tk.W)\n",
    "        self.task2.heading(\"Column 2\", text=\"Priority\", anchor=tk.W)\n",
    "        self.task2.heading(\"Column 3\", text=\"Due date\", anchor=tk.W)\n",
    "\n",
    "        self.task3 = ttk.Treeview(self.tab3, columns=(\"Column 1\", \"Column 2\", \"Column 3\"))\n",
    "        self.task3.heading(\"#0\", text=\"ID\", anchor=tk.W)\n",
    "        self.task3.heading(\"Column 1\", text=\"Task name\", anchor=tk.W)\n",
    "        self.task3.heading(\"Column 2\", text=\"Priority\", anchor=tk.W)\n",
    "        self.task3.heading(\"Column 3\", text=\"Due date\", anchor=tk.W)\n",
    "\n",
    "        self.task4 = ttk.Treeview(self.tab4, columns=(\"Column 1\", \"Column 2\", \"Column 3\"))\n",
    "        self.task4.heading(\"#0\", text=\"ID\", anchor=tk.W)\n",
    "        self.task4.heading(\"Column 1\", text=\"Task name\", anchor=tk.W)\n",
    "        self.task4.heading(\"Column 2\", text=\"Priority\", anchor=tk.W)\n",
    "        self.task4.heading(\"Column 3\", text=\"Due date\", anchor=tk.W)\n",
    "\n",
    "        self.remove_button = tk.Button(self, text=\"Remove task\", background=\"gray70\")\n",
    "        self.update_button = tk.Button(self, text=\"Update task\", background=\"dodgerblue2\")\n",
    "\n",
    "    def layout_widgets(self):\n",
    "        self.columnconfigure((0, 1, 2, 3), weight=1)\n",
    "        self.rowconfigure(0, weight=1)\n",
    "        self.rowconfigure(1, weight=22)\n",
    "        self.rowconfigure(2, weight=1)\n",
    "\n",
    "        self.search_entry.grid(row=0, column=0, columnspan=3, padx=12, pady=12, sticky=\"ew\")\n",
    "        self.search_button.grid(row=0, column=3, padx=12, pady=12, sticky=\"ew\")\n",
    "\n",
    "        self.manager.grid(row=1, column=0, columnspan=4, padx=12, sticky=\"nsew\")\n",
    "        self.task1.pack(side=\"left\", fill=\"both\", expand=True)\n",
    "        self.task2.pack(side=\"left\", fill=\"both\", expand=True)\n",
    "        self.task3.pack(side=\"left\", fill=\"both\", expand=True)\n",
    "        self.task4.pack(side=\"left\", fill=\"both\", expand=True)\n",
    "\n",
    "        self.remove_button.grid(row=2, column=0, padx=12, pady=12, sticky=\"ew\")\n",
    "        self.update_button.grid(row=2, column=3, padx=12, pady=12, sticky=\"ew\")"
   ]
  },
  {
   "cell_type": "code",
   "execution_count": 4,
   "id": "fd7f4be1",
   "metadata": {},
   "outputs": [
    {
     "data": {
      "text/plain": [
       "<__main__.App object .>"
      ]
     },
     "execution_count": 4,
     "metadata": {},
     "output_type": "execute_result"
    }
   ],
   "source": [
    "App(\"Task Manager App\", (1136, 644))"
   ]
  }
 ],
 "metadata": {
  "kernelspec": {
   "display_name": "Python 3 (ipykernel)",
   "language": "python",
   "name": "python3"
  },
  "language_info": {
   "codemirror_mode": {
    "name": "ipython",
    "version": 3
   },
   "file_extension": ".py",
   "mimetype": "text/x-python",
   "name": "python",
   "nbconvert_exporter": "python",
   "pygments_lexer": "ipython3",
   "version": "3.11.4"
  }
 },
 "nbformat": 4,
 "nbformat_minor": 5
}
